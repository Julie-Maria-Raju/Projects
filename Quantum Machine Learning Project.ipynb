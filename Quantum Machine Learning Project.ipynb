{
 "cells": [
  {
   "cell_type": "markdown",
   "id": "cef03282",
   "metadata": {},
   "source": [
    "# Quantum Machine Learning"
   ]
  },
  {
   "cell_type": "code",
   "execution_count": 7,
   "id": "a61096a2",
   "metadata": {},
   "outputs": [],
   "source": [
    "# Importing packages \n",
    "import numpy as np\n",
    "import matplotlib.pyplot as plt\n",
    "from scipy.optimize import minimize\n",
    "\n",
    "import qiskit\n",
    "from qiskit import QuantumCircuit, assemble, Aer\n",
    "from qiskit.circuit import QuantumCircuit\n",
    "from qiskit.algorithms.optimizers import SPSA"
   ]
  },
  {
   "cell_type": "markdown",
   "id": "356c1fbb",
   "metadata": {},
   "source": [
    "We find the parity of randomly choosen column by adding the index after converting it into its binary form and apply modulo 2 operation. In order to get the parity in the Z basis we do the calculation of 1 - 2*( parity we got)."
   ]
  },
  {
   "cell_type": "code",
   "execution_count": 8,
   "id": "600d830c",
   "metadata": {},
   "outputs": [],
   "source": [
    "# Defining labels_actual or actual parity.\n",
    "def parity(index):\n",
    "    bits = bin(index)  # Coverting into binary.\n",
    "    tot = sum([int(b) for b in bits[2:]]) # Eg: 0b101, hence we remove first two bits.\n",
    "    res = tot%2\n",
    "    res=1-2*res # Gives parity in Z basis.\n",
    "    return(res)"
   ]
  },
  {
   "cell_type": "code",
   "execution_count": 9,
   "id": "2118f230",
   "metadata": {},
   "outputs": [],
   "source": [
    "# Parity check on test data or unseen samples.\n",
    "parity_operator =np.array([[1,0,0,0],[0,-1,0,0], [0,0,-1,0],[0,0,0,1]]) # Z⊗Z , another way of measuring parity\n",
    "\n",
    "def parity_check(vector):\n",
    "    return vector.transpose().conjugate() @ parity_operator @ vector\n",
    "    "
   ]
  },
  {
   "cell_type": "markdown",
   "id": "58a3115d",
   "metadata": {},
   "source": [
    "We define a function 'training_data ' which returns 'result' and 'labels' where 'results' is an empty array where randomly choosen column from the identity matrix get appended and 'label' array get appended from the 'parity' function."
   ]
  },
  {
   "cell_type": "code",
   "execution_count": 10,
   "id": "5fcfc108",
   "metadata": {},
   "outputs": [],
   "source": [
    "# Defining training data by randomly choosing columbs of identity matrix\n",
    "def training_data(num):\n",
    "    global n\n",
    "    n = 2 \n",
    "    dimension = 2**n\n",
    "    identity_matrix = np.identity(dimension, dtype = int)\n",
    "\n",
    "    result =[]\n",
    "    labels =[]\n",
    "    for i in range(num):\n",
    "        index = np.random.randint(0,dimension)\n",
    "        result.append (identity_matrix[:,index])\n",
    "        labels.append (parity(index))\n",
    "    return result,labels "
   ]
  },
  {
   "cell_type": "markdown",
   "id": "4f1dd8ba",
   "metadata": {},
   "source": [
    "We construct the ansatz circuit. $R_{ZX}$ gate is performed on qubits 0 and 1 while $R_Z$ on qubit 0 and and $R_X$ gate on qubit 1. Finally, the last qubit is measured and a classical bit is stored as output. The '0' on the classical bit denotes the measurement number."
   ]
  },
  {
   "cell_type": "markdown",
   "id": "2f55a58c",
   "metadata": {},
   "source": [
    "#### "
   ]
  },
  {
   "cell_type": "code",
   "execution_count": 11,
   "id": "0521b634",
   "metadata": {},
   "outputs": [],
   "source": [
    "# Constructing the circuit and calls training_data as input and assign parameters for each theta.\n",
    "def ansatz_2(inp,parameters):\n",
    "    global n\n",
    "    c_reg = 1\n",
    "    global qc\n",
    "    qc = qiskit.QuantumCircuit(n,c_reg)\n",
    "    qc.initialize(inp)\n",
    "    qc.rx(parameters[0],  1)\n",
    "    qc.rz(parameters[1],  0)\n",
    "    qc.rzx(parameters[2], 0, 1)\n",
    "    qc.measure(1,0)\n",
    "    return(qc)"
   ]
  },
  {
   "cell_type": "code",
   "execution_count": 12,
   "id": "f21f68e0",
   "metadata": {},
   "outputs": [],
   "source": [
    "# Constructing the same ansatz for checking the test data.\n",
    "def ansatz_2_check(parameters,vector):\n",
    "    global n\n",
    "    c_reg = 1\n",
    "    global qc\n",
    "    qc = qiskit.QuantumCircuit(n,c_reg)\n",
    "    qc.initialize(vector)\n",
    "    qc.rx(parameters[0],  1)\n",
    "    qc.rz(parameters[1],  0)\n",
    "    qc.rzx(parameters[2], 0, 1)\n",
    "    qc.measure(1,0)\n",
    "    return(qc)"
   ]
  },
  {
   "cell_type": "markdown",
   "id": "a3a1ab83",
   "metadata": {},
   "source": [
    "We simulates the circuit using 'Aer simulator' and get the counts of 0 and 1 and find the expectation value to get the measured parity. We then define the cost function for optimisation."
   ]
  },
  {
   "cell_type": "code",
   "execution_count": 13,
   "id": "9396e81f",
   "metadata": {},
   "outputs": [],
   "source": [
    "# Simulating the circuit to get counts.\n",
    "def entropy(inp,par,parameters): # (inp = input,par = parity,parameters)\n",
    "    shots= 1024\n",
    "    circuit=ansatz_2(inp,parameters)\n",
    "    qc.draw('mpl') # To display the circuit.\n",
    "    sim = qiskit.Aer.get_backend('aer_simulator_statevector')  \n",
    "    counts = (sim.run(circuit.compose(circuit),shots = shots).result().get_counts()) \n",
    "\n",
    "# For loop incase we get counts for both 0 and 1.    \n",
    "    probs={}\n",
    "    for output in ['0','1']:\n",
    "        if output in counts:\n",
    "            probs[output] = counts[output]\n",
    "        else:\n",
    "            probs[output] = 0\n",
    "    counts_0 = probs['0']\n",
    "    counts_1 = probs['1']\n",
    "    \n",
    "# Calculating expectation value of counts.\n",
    "    labels_measured = 1/shots* (counts_0 * 1 + counts_1 * -1)\n",
    "    labels_actual = par\n",
    "    \n",
    "# Quadratic cost function.\n",
    "    quadratic_error = (labels_actual - labels_measured)**2\n",
    "    return(quadratic_error)"
   ]
  },
  {
   "cell_type": "markdown",
   "id": "200a41a4",
   "metadata": {},
   "source": [
    "We take the sum of cost function of 50 samples and divide it by the total number of sample."
   ]
  },
  {
   "cell_type": "code",
   "execution_count": 14,
   "id": "8fc4c7b0",
   "metadata": {},
   "outputs": [],
   "source": [
    "def cost_function(parameters):\n",
    "    p_cost=0\n",
    "    global k\n",
    "    z = 50 # Taking 50 samples.\n",
    "    for a in range(z):\n",
    "        p_cost+=entropy(k[0][a],k[1][a],parameters) \n",
    "    p_cost=p_cost/z\n",
    "    return p_cost"
   ]
  },
  {
   "cell_type": "code",
   "execution_count": 28,
   "id": "a30ed145",
   "metadata": {},
   "outputs": [],
   "source": [
    "# Cost function to check unseen examples.\n",
    "def cost_function_check(parameters,vector):\n",
    "    shots= 1024\n",
    "    circuit=ansatz_2_check(parameters,vector)\n",
    "    sim = qiskit.Aer.get_backend('aer_simulator_statevector')\n",
    "    counts = (sim.run(circuit.compose(circuit),shots = shots).result().get_counts())\n",
    "    #plot_histogram(counts, title=' counts')\n",
    "    #print(counts)\n",
    "    probs={}\n",
    "    for output in ['0','1']:\n",
    "        if output in counts:\n",
    "            probs[output] = counts[output]\n",
    "        else:\n",
    "            probs[output] = 0     \n",
    "    counts_0 = probs['0']\n",
    "    counts_1 = probs['1']   \n",
    "    \n",
    "    labels_measured = 1/shots* (counts_0*1 + counts_1*-1)\n",
    "    print(\"labels_measured =\", labels_measured)\n",
    "    labels_actual = parity_check(vector)\n",
    "    print(\"labels_actual = \", labels_actual)\n",
    "    \n",
    "    quadratic_error = (labels_actual - labels_measured)**2\n",
    "    return(quadratic_error)"
   ]
  },
  {
   "cell_type": "code",
   "execution_count": 16,
   "id": "cf44b887",
   "metadata": {},
   "outputs": [],
   "source": [
    "class OptimizerLog:\n",
    "    \"\"\"Log to store optimizer's intermediate results\"\"\"\n",
    "    def __init__(self):\n",
    "        self.evaluations = []\n",
    "        self.parameters = []\n",
    "        self.costs = []\n",
    "    def update(self, evaluation, parameter, cost, _stepsize, _accept):\n",
    "        \"\"\"Save intermediate results. Optimizer passes five values\n",
    "        but we ignore the last two.\"\"\"\n",
    "        self.evaluations.append(evaluation)\n",
    "        self.parameters.append(parameter)\n",
    "        self.costs.append(cost)\n",
    "log = OptimizerLog()\n",
    "global k\n",
    "k = training_data(50)\n",
    "initial = np.random.rand(3)"
   ]
  },
  {
   "cell_type": "markdown",
   "id": "6064ee57",
   "metadata": {},
   "source": [
    "Powell method from SciPy is used to optimise the cost function and to generate optimal parameters."
   ]
  },
  {
   "cell_type": "code",
   "execution_count": 21,
   "id": "e8c843d9",
   "metadata": {},
   "outputs": [
    {
     "name": "stdout",
     "output_type": "stream",
     "text": [
      " message: Optimization terminated successfully.\n",
      " success: True\n",
      "  status: 0\n",
      "     fun: 7.62939453125e-08\n",
      "       x: [ 4.722e+00  9.746e-01  1.567e+00]\n",
      "     nit: 3\n",
      "   direc: [[ 1.000e+00  0.000e+00  0.000e+00]\n",
      "           [ 0.000e+00  1.000e+00  0.000e+00]\n",
      "           [ 0.000e+00  0.000e+00  1.000e+00]]\n",
      "    nfev: 137\n",
      "7.62939453125e-08\n",
      "0.0\n",
      "7.62939453125e-08\n",
      "1.52587890625e-07\n",
      "7.62939453125e-08\n"
     ]
    }
   ],
   "source": [
    "result_powell = minimize(cost_function,initial,method = 'powell')\n",
    "print(result_powell)\n",
    "\n",
    "for k0 in range(5):\n",
    "    print(cost_function(result_powell.x))\n",
    "    \n"
   ]
  },
  {
   "cell_type": "markdown",
   "id": "107017bb",
   "metadata": {},
   "source": [
    "SPSA method from qiskit is used to optimise the cost function and to generate optimal parameters."
   ]
  },
  {
   "cell_type": "code",
   "execution_count": 18,
   "id": "0d2c6c10",
   "metadata": {},
   "outputs": [
    {
     "name": "stdout",
     "output_type": "stream",
     "text": [
      "{   'fun': 0.000908050537109375,\n",
      "    'jac': None,\n",
      "    'nfev': 300,\n",
      "    'nit': None,\n",
      "    'njev': None,\n",
      "    'x': array([ 1.53835059, -0.49422772, -1.33167846])}\n",
      "0.000998077392578125\n",
      "0.000927734375\n",
      "0.0009745025634765625\n",
      "0.000917205810546875\n",
      "0.0008331298828125\n"
     ]
    }
   ],
   "source": [
    "optimizer = SPSA(maxiter=100,callback=log.update)\n",
    "result_spsa = optimizer.minimize(cost_function,initial )\n",
    "print(result_spsa)\n",
    "\n",
    "# Cost function for 5 random training data.\n",
    "for k0 in range(5):\n",
    "    print(cost_function(result_spsa.x)) "
   ]
  },
  {
   "cell_type": "markdown",
   "id": "534b5f6a",
   "metadata": {},
   "source": [
    "Plotting graph to show how the cost function converges after each function evaluation with SPSA method."
   ]
  },
  {
   "cell_type": "code",
   "execution_count": 19,
   "id": "d666c86e",
   "metadata": {},
   "outputs": [
    {
     "data": {
      "image/png": "[encoded data removed]",
      "text/plain": [
       "<Figure size 432x288 with 1 Axes>"
      ]
     },
     "metadata": {
      "needs_background": "light"
     },
     "output_type": "display_data"
    }
   ],
   "source": [
    "fig = plt.figure()\n",
    "plt.plot(log.evaluations, log.costs)\n",
    "plt.xlabel('Steps')\n",
    "plt.ylabel('Cost')\n",
    "plt.show()\n"
   ]
  },
  {
   "cell_type": "markdown",
   "id": "342a7d65",
   "metadata": {},
   "source": [
    "Checking parity of unseen examples with both Powell and SPSA Method."
   ]
  },
  {
   "cell_type": "code",
   "execution_count": 31,
   "id": "597af2f3",
   "metadata": {},
   "outputs": [
    {
     "name": "stdout",
     "output_type": "stream",
     "text": [
      "labels_measured = -0.359375\n",
      "labels_actual =  (-0.3333333333333334+0j)\n",
      "Error = (0.000678168402777773+0j)\n"
     ]
    }
   ],
   "source": [
    "vector = np.array([1,1j,-1j,0])\n",
    "# Powell Method.\n",
    "print(\"Error =\" ,cost_function_check(result_powell.x, vector/np.linalg.norm(vector)))"
   ]
  },
  {
   "cell_type": "code",
   "execution_count": 32,
   "id": "42689f73",
   "metadata": {},
   "outputs": [
    {
     "name": "stdout",
     "output_type": "stream",
     "text": [
      "labels_measured = -0.474609375\n",
      "labels_actual =  (-0.3333333333333334+0j)\n",
      "Error = (0.01995891994900171+0j)\n"
     ]
    }
   ],
   "source": [
    "# SPSA method.\n",
    "print(\"Error =\" ,cost_function_check(result_spsa.x, vector/np.linalg.norm(vector)))"
   ]
  },
  {
   "cell_type": "code",
   "execution_count": null,
   "id": "b7ec636e",
   "metadata": {},
   "outputs": [],
   "source": []
  }
 ],
 "metadata": {
  "kernelspec": {
   "display_name": "Python 3 (ipykernel)",
   "language": "python",
   "name": "python3"
  },
  "language_info": {
   "codemirror_mode": {
    "name": "ipython",
    "version": 3
   },
   "file_extension": ".py",
   "mimetype": "text/x-python",
   "name": "python",
   "nbconvert_exporter": "python",
   "pygments_lexer": "ipython3",
   "version": "3.9.7"
  }
 },
 "nbformat": 4,
 "nbformat_minor": 5
}
